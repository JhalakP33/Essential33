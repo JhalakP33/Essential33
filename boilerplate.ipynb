{
 "cells": [
  {
   "attachments": {},
   "cell_type": "markdown",
   "metadata": {},
   "source": [
    "## Use below cell to make new assignment folder"
   ]
  },
  {
   "cell_type": "code",
   "execution_count": 7,
   "metadata": {},
   "outputs": [],
   "source": [
    "from datetime import date\n",
    "from utils import AssignmentFolder\n",
    "\n",
    "url=\"\"\"\n",
    "https://drive.google.com/file/d/1fTiSocbd3t6Ha-Q7uOf_TQyQBQmCqeak/view?usp=sharing\n",
    "\"\"\"\n",
    "d = 29\n",
    "type = 'folders'\n",
    "type = 'file'\n",
    "\n",
    "f = AssignmentFolder(date=date(2023, 3, d), url=url, type=type)\n",
    "# f = AssignmentFolder(date=date(2023, 3, d), id='18xokHukuQwLSqKCuqraMvts53EUXVY', type=type)\n",
    "f.make()"
   ]
  },
  {
   "attachments": {},
   "cell_type": "markdown",
   "metadata": {},
   "source": [
    "## Use below cell to commit your assignment"
   ]
  },
  {
   "cell_type": "code",
   "execution_count": 1,
   "metadata": {},
   "outputs": [
    {
     "name": "stdout",
     "output_type": "stream",
     "text": [
      "[main a7eea56] Added 26 Mar assignment.\n",
      " 2 files changed, 217 insertions(+)\n",
      " create mode 100644 March/26 Mar/26 Mar - Answer.ipynb\n",
      " create mode 100644 March/26 Mar/26 Mar - Question.pdf\n",
      "https://github.com/arv-anshul/pw-impact-batch/blob/main/March/26%20Mar/26%20Mar%20-%20Answer.ipynb\n"
     ]
    }
   ],
   "source": [
    "!python3 'utils/commit_assignment.py' --file-name 'March/26 Mar'"
   ]
  },
  {
   "cell_type": "code",
   "execution_count": 2,
   "metadata": {},
   "outputs": [
    {
     "name": "stdout",
     "output_type": "stream",
     "text": [
      "Enumerating objects: 8, done.\n",
      "Counting objects: 100% (8/8), done.\n",
      "Delta compression using up to 8 threads\n",
      "Compressing objects: 100% (6/6), done.\n",
      "Writing objects: 100% (6/6), 921.83 KiB | 14.40 MiB/s, done.\n",
      "Total 6 (delta 2), reused 0 (delta 0), pack-reused 0\n",
      "remote: Resolving deltas: 100% (2/2), completed with 2 local objects.\u001b[K\n",
      "To https://github.com/arv-anshul/pw-impact-batch.git\n",
      "   3a90afd..a7eea56  main -> main\n"
     ]
    }
   ],
   "source": [
    "!git push origin main"
   ]
  }
 ],
 "metadata": {
  "kernelspec": {
   "display_name": "Python 3.11.0 64-bit",
   "language": "python",
   "name": "python3"
  },
  "language_info": {
   "codemirror_mode": {
    "name": "ipython",
    "version": 3
   },
   "file_extension": ".py",
   "mimetype": "text/x-python",
   "name": "python",
   "nbconvert_exporter": "python",
   "pygments_lexer": "ipython3",
   "version": "3.11.0"
  },
  "orig_nbformat": 4,
  "vscode": {
   "interpreter": {
    "hash": "aee8b7b246df8f9039afb4144a1f6fd8d2ca17a180786b69acc140d282b71a49"
   }
  }
 },
 "nbformat": 4,
 "nbformat_minor": 2
}
