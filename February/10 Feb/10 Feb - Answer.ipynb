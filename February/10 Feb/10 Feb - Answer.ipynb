{
 "cells": [
  {
   "attachments": {},
   "cell_type": "markdown",
   "metadata": {},
   "source": [
    "### Q1. Which function is used to open a file? What are the different modes of opening a file? Explain each mode of file opening.\n",
    "\n",
    "> `open()` builtin function is used to open files.\n",
    "\n",
    "#### Different modes of file opening:\n",
    "\n",
    "| Character | Meaning                                                         |\n",
    "| :-------: | --------------------------------------------------------------- |\n",
    "|    'r'    | open for reading (default)                                      |\n",
    "|    'w'    | open for writing, truncating the file first                     |\n",
    "|    'x'    | create a new file and open it for writing                       |\n",
    "|    'a'    | open for writing, appending to the end of the file if it exists |\n",
    "|    'b'    | binary mode                                                     |\n",
    "|    't'    | text mode (default)                                             |\n",
    "|    '+'    | open a disk file for updating (reading and writing)             |\n"
   ]
  },
  {
   "attachments": {},
   "cell_type": "markdown",
   "metadata": {},
   "source": [
    "### Q2. Why close() function is used? Why is it important to close a file?\n",
    "\n",
    "> `close()` funtion is used to close the **opened file**.\n",
    "\n",
    "1. Due to opened in whole program it can get corruput for some reason.\n",
    "2. Opened files occupies memory in RAM."
   ]
  },
  {
   "cell_type": "markdown",
   "metadata": {},
   "source": [
    "### Q3. Write a python program to create a text file. Write ‘I want to become a Data Scientist’ in that file. Then close the file. Open this file and read the content of the file.\n"
   ]
  },
  {
   "cell_type": "code",
   "execution_count": 11,
   "metadata": {},
   "outputs": [],
   "source": [
    "q3 = open('Q3.txt', 'w')\n",
    "\n",
    "q3.write('I want to beacome a Data Scientist.')\n",
    "\n",
    "q3.close()"
   ]
  },
  {
   "cell_type": "code",
   "execution_count": 12,
   "metadata": {},
   "outputs": [
    {
     "name": "stdout",
     "output_type": "stream",
     "text": [
      "I want to beacome a Data Scientist.\n"
     ]
    }
   ],
   "source": [
    "q3 = open('Q3.txt', 'r')\n",
    "\n",
    "print(q3.read())\n",
    "\n",
    "q3.close()"
   ]
  },
  {
   "cell_type": "markdown",
   "metadata": {},
   "source": [
    "### Q4. Explain the following with python code: read(), readline() and readlines().\n"
   ]
  },
  {
   "cell_type": "code",
   "execution_count": 6,
   "metadata": {},
   "outputs": [],
   "source": [
    "with open('Q4.txt', 'w') as q4:\n",
    "    write = ['I am Anshul Raj Verma.\\n', 'This second line.\\n', 'This is third line.\\n', 'This is fourth line.\\n']\n",
    "\n",
    "    q4.writelines(write)"
   ]
  },
  {
   "cell_type": "code",
   "execution_count": 7,
   "metadata": {},
   "outputs": [
    {
     "name": "stdout",
     "output_type": "stream",
     "text": [
      "I am Anshul Raj Verma.\n",
      "This second line.\n",
      "This is third line.\n",
      "This is fourth line.\n",
      "\n"
     ]
    }
   ],
   "source": [
    "with open('Q4.txt', 'r') as q4:\n",
    "    print(q4.read())    # Read the whole file at a time."
   ]
  },
  {
   "cell_type": "code",
   "execution_count": 8,
   "metadata": {},
   "outputs": [
    {
     "name": "stdout",
     "output_type": "stream",
     "text": [
      "['I am Anshul Raj Verma.\\n', 'This second line.\\n', 'This is third line.\\n', 'This is fourth line.\\n']\n"
     ]
    }
   ],
   "source": [
    "with open('Q4.txt', 'r') as q4:\n",
    "    print(q4.readlines())   # Read the the whole file line by line and return a list of strings."
   ]
  },
  {
   "cell_type": "code",
   "execution_count": 10,
   "metadata": {},
   "outputs": [
    {
     "name": "stdout",
     "output_type": "stream",
     "text": [
      "I am Anshul Raj Verma.\n",
      "This second line.\n",
      "This is third line.\n"
     ]
    }
   ],
   "source": [
    "with open('Q4.txt', 'r') as q4:\n",
    "    print(q4.readline(), end='')    # Read one line at a time of the file and returns it.\n",
    "    print(q4.readline(), end='')\n",
    "    print(q4.readline(), end='')"
   ]
  },
  {
   "attachments": {},
   "cell_type": "markdown",
   "metadata": {},
   "source": [
    "### Q5. Explain why with statement is used with open(). What is the advantage of using with statement and open() together?\n",
    "\n",
    "> `with` keyword is used as context manager with `open()` function. It is use because `with` statement __close__ the file when the program context ends.\n",
    "\n",
    "> It reduce the file corruption chances. And make the programmer tension free to check wheher the file colses in the program or not."
   ]
  },
  {
   "cell_type": "markdown",
   "metadata": {},
   "source": [
    "### Q6. Explain the write() and writelines() functions. Give a suitable example."
   ]
  },
  {
   "cell_type": "code",
   "execution_count": 14,
   "metadata": {},
   "outputs": [],
   "source": [
    "lines = ['Line1\\n', 'line2\\n', 'line3\\n', 'line4\\n']\n",
    "with open('Q5.txt', 'w') as q5:\n",
    "    for i in lines:\n",
    "        q5.write(i)    # Write in the files with individual strings."
   ]
  },
  {
   "cell_type": "code",
   "execution_count": 15,
   "metadata": {},
   "outputs": [],
   "source": [
    "with open('Q5.txt', 'w') as q5:\n",
    "    q5.writelines(lines)    # Write in the files with list of strings."
   ]
  }
 ],
 "metadata": {
  "kernelspec": {
   "display_name": "Python 3.11.0 64-bit",
   "language": "python",
   "name": "python3"
  },
  "language_info": {
   "codemirror_mode": {
    "name": "ipython",
    "version": 3
   },
   "file_extension": ".py",
   "mimetype": "text/x-python",
   "name": "python",
   "nbconvert_exporter": "python",
   "pygments_lexer": "ipython3",
   "version": "3.11.0"
  },
  "orig_nbformat": 4,
  "vscode": {
   "interpreter": {
    "hash": "aee8b7b246df8f9039afb4144a1f6fd8d2ca17a180786b69acc140d282b71a49"
   }
  }
 },
 "nbformat": 4,
 "nbformat_minor": 2
}
