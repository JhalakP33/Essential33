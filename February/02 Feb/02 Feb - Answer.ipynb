{
 "cells": [
  {
   "cell_type": "markdown",
   "metadata": {},
   "source": [
    "### Q1. Explain with an example each when to use a for loop and a while loop."
   ]
  },
  {
   "cell_type": "code",
   "execution_count": 3,
   "metadata": {},
   "outputs": [
    {
     "name": "stdout",
     "output_type": "stream",
     "text": [
      "result = [12, 34, 56, 78, 66]\n"
     ]
    }
   ],
   "source": [
    "lst = [12, 34, 25, 45, 17, 23, 56, 78, 5, 66]\n",
    "\n",
    "result = []\n",
    "for i in lst:\n",
    "    if i % 2 == 0:\n",
    "        result.append(i)\n",
    "print(f'{result = }')"
   ]
  },
  {
   "cell_type": "code",
   "execution_count": 5,
   "metadata": {},
   "outputs": [
    {
     "name": "stdout",
     "output_type": "stream",
     "text": [
      "result = 133\n"
     ]
    }
   ],
   "source": [
    "result = 0\n",
    "i = 0\n",
    "while result < 120:\n",
    "    result += lst[i]\n",
    "\n",
    "    i += 1\n",
    "\n",
    "print(f'{result = }')"
   ]
  },
  {
   "cell_type": "markdown",
   "metadata": {},
   "source": [
    "## Explanation :\n",
    "\n",
    "`for loop` used to iterate over __iterators__ (i.e. `lst` here) to perform some operations on them.\n",
    "\n",
    "On the other hand, `while loop` is used to permform the operations until the __given equation__ (i.e. `result < 120` here) is `True`."
   ]
  },
  {
   "cell_type": "markdown",
   "metadata": {},
   "source": [
    "### Q2.  Write a python program to print the sum and product of the first 10 natural numbers using for and while loop."
   ]
  },
  {
   "cell_type": "code",
   "execution_count": 6,
   "metadata": {},
   "outputs": [
    {
     "name": "stdout",
     "output_type": "stream",
     "text": [
      "sum = 55\n",
      "product = 3628800\n"
     ]
    }
   ],
   "source": [
    "sum = 0\n",
    "product = 1\n",
    "for i in range(1, 11):\n",
    "    sum += i\n",
    "    product *= i\n",
    "\n",
    "print(f'{sum = }')\n",
    "print(f'{product = }')"
   ]
  },
  {
   "cell_type": "code",
   "execution_count": 10,
   "metadata": {},
   "outputs": [
    {
     "name": "stdout",
     "output_type": "stream",
     "text": [
      "sum = 55\n",
      "product = 3628800\n"
     ]
    }
   ],
   "source": [
    "sum = 0\n",
    "product = 1\n",
    "i = 1\n",
    "while i <= 10:\n",
    "    sum += i\n",
    "    product *= i\n",
    "    \n",
    "    i+=1\n",
    "\n",
    "print(f'{sum = }')\n",
    "print(f'{product = }')"
   ]
  },
  {
   "cell_type": "markdown",
   "metadata": {},
   "source": [
    "### Q3. Create a python program to compute the electricity bill for a household.\n",
    "\n",
    "The per-unit charges in rupees are as follows:\n",
    "- For the first 100 units, the user will be charged Rs. 4.5 per unit,\n",
    "- for the next 100 units, the user will be charged Rs. 6 per unit, \n",
    "- for the next 100 units, the user will be charged Rs. 10 per unit, \n",
    "- After 300 units and above the user will be charged Rs. 20 per unit.\n",
    "- You are required to take the units of electricity consumed in a month from the user as input.\n",
    "\n",
    "Your program must pass this test case: when the unit of electricity consumed by the user in a month is 310, the total electricity bill should be 2250."
   ]
  },
  {
   "cell_type": "code",
   "execution_count": 14,
   "metadata": {},
   "outputs": [
    {
     "name": "stdout",
     "output_type": "stream",
     "text": [
      "total_bill = 2250.0\n"
     ]
    }
   ],
   "source": [
    "user = int(input('Enter your Electricity Consumpsion (in Unit) : '))\n",
    "\n",
    "total_bill = 0\n",
    "for i in range(1, user+1):\n",
    "    if i <= 100:\n",
    "        total_bill += 4.5\n",
    "    elif i <= 200:\n",
    "        total_bill += 6\n",
    "    elif i <= 300:\n",
    "        total_bill += 10\n",
    "    else:\n",
    "        total_bill += 20\n",
    "\n",
    "print(f'{total_bill = }')"
   ]
  },
  {
   "cell_type": "markdown",
   "metadata": {},
   "source": [
    "### Q4. Create a list of numbers from 1 to 100. Use for loop and while loop to calculate the cube of each number and if the cube of that number is divisible by 4 or 5 then append that number in a list and print that list."
   ]
  },
  {
   "cell_type": "code",
   "execution_count": 25,
   "metadata": {},
   "outputs": [
    {
     "name": "stdout",
     "output_type": "stream",
     "text": [
      "result = [2, 4, 5, 6, 8, 10, 12, 14, 15, 16, 18, 20, 22, 24, 25, 26, 28, 30, 32, 34, 35, 36, 38, 40, 42, 44, 45, 46, 48, 50, 52, 54, 55, 56, 58, 60, 62, 64, 65, 66, 68, 70, 72, 74, 75, 76, 78, 80, 82, 84, 85, 86, 88, 90, 92, 94, 95, 96, 98, 100]\n"
     ]
    }
   ],
   "source": [
    "to_hundred = list(range(1, 101))\n",
    "\n",
    "result = []\n",
    "for i in to_hundred:\n",
    "    if i**3 % 4 == 0 or i**3 % 5 == 0:\n",
    "        result.append(i)\n",
    "\n",
    "print(f'{result = }')"
   ]
  },
  {
   "cell_type": "code",
   "execution_count": 26,
   "metadata": {},
   "outputs": [
    {
     "name": "stdout",
     "output_type": "stream",
     "text": [
      "result = [2, 4, 5, 6, 8, 10, 12, 14, 15, 16, 18, 20, 22, 24, 25, 26, 28, 30, 32, 34, 35, 36, 38, 40, 42, 44, 45, 46, 48, 50, 52, 54, 55, 56, 58, 60, 62, 64, 65, 66, 68, 70, 72, 74, 75, 76, 78, 80, 82, 84, 85, 86, 88, 90, 92, 94, 95, 96, 98, 100]\n"
     ]
    }
   ],
   "source": [
    "result = []\n",
    "i = 0\n",
    "while i < 100:\n",
    "    if to_hundred[i]**3 % 4 == 0 or to_hundred[i]**3 % 5 == 0:\n",
    "        result.append(to_hundred[i])\n",
    "\n",
    "    i+=1\n",
    "\n",
    "print(f'{result = }')    "
   ]
  },
  {
   "cell_type": "markdown",
   "metadata": {},
   "source": [
    "### Q5.  Write a program to filter count vowels in the below-given string.\n",
    "`string = \"I want to become a data scientist\"`"
   ]
  },
  {
   "cell_type": "code",
   "execution_count": 28,
   "metadata": {},
   "outputs": [
    {
     "name": "stdout",
     "output_type": "stream",
     "text": [
      "count = 12\n"
     ]
    }
   ],
   "source": [
    "string = \"I want to become a data scientist\"\n",
    "count = 0\n",
    "\n",
    "for i in string:\n",
    "    if i.lower() in ['a', 'e', 'i', 'o', 'u']:\n",
    "        count += 1\n",
    "\n",
    "print(f'{count = }')"
   ]
  }
 ],
 "metadata": {
  "kernelspec": {
   "display_name": "Python 3.11.0 64-bit",
   "language": "python",
   "name": "python3"
  },
  "language_info": {
   "codemirror_mode": {
    "name": "ipython",
    "version": 3
   },
   "file_extension": ".py",
   "mimetype": "text/x-python",
   "name": "python",
   "nbconvert_exporter": "python",
   "pygments_lexer": "ipython3",
   "version": "3.11.0"
  },
  "orig_nbformat": 4,
  "vscode": {
   "interpreter": {
    "hash": "aee8b7b246df8f9039afb4144a1f6fd8d2ca17a180786b69acc140d282b71a49"
   }
  }
 },
 "nbformat": 4,
 "nbformat_minor": 2
}
