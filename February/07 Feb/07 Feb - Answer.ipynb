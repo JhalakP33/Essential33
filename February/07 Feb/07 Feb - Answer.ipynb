{
 "cells": [
  {
   "attachments": {},
   "cell_type": "markdown",
   "metadata": {},
   "source": [
    "### Q1. You are writing code for a company. The requirement of the company is that you create a python function that will check whether the password entered by the user is correct or not. The function should take the password as input and return the string “Valid Password” if the entered password follows the below-given password guidelines else it should return “Invalid Password”.\n",
    "\n",
    "#### `Note:`\n",
    "1. The Password should contain at least two uppercase letters and at least two lowercase letters. \n",
    "2. The Password should contain at least a number and three special characters. \n",
    "3. The length of the password should be 10 characters long.\n"
   ]
  },
  {
   "cell_type": "code",
   "execution_count": 8,
   "metadata": {},
   "outputs": [
    {
     "name": "stdout",
     "output_type": "stream",
     "text": [
      "ABc123./@dx$#abx%^a2  =  Valid Password\n",
      "adiu231$029AJY#-dj  =  Invalid Password\n",
      "ABcd12./#klajf23&  =  Valid Password\n"
     ]
    }
   ],
   "source": [
    "def check_password(password: str):\n",
    "    special_chars = \"[@_!#$%^&*()<>?/|}{~:]\"\n",
    "\n",
    "    cap = num = char = length = 0\n",
    "    for i in password:\n",
    "        if i.isupper() or i.islower():\n",
    "            cap += 1\n",
    "        elif i.isdigit():\n",
    "            num += 1\n",
    "        elif i in special_chars:\n",
    "            char += 1\n",
    "        else:\n",
    "            continue\n",
    "    \n",
    "    if cap >= 4 and num >= 1 and char >= 3 and len(password) >= 10:\n",
    "        return 'Valid Password'\n",
    "    else:\n",
    "        return 'Invalid Password'\n",
    "\n",
    "pass1 = 'ABc123./@dx$#abx%^a2'\n",
    "pass2 = 'adiu231$029AJY#-dj'\n",
    "pass3 = 'ABcd12./#klajf23&'\n",
    "\n",
    "print(pass1, ' = ', check_password(pass1))\n",
    "print(pass2, ' = ', check_password(pass2))\n",
    "print(pass3, ' = ', check_password(pass3))"
   ]
  },
  {
   "attachments": {},
   "cell_type": "markdown",
   "metadata": {},
   "source": [
    "### Q2. Solve the below-given questions using at least one of the following:  \n",
    "1. Lambda function.\n",
    "2. Filter function.\n",
    "3. Map function.\n",
    "4. List Comprehension.\n"
   ]
  },
  {
   "cell_type": "markdown",
   "metadata": {},
   "source": [
    "### Q. Check if the string starts with a particular letter.\n",
    "\n"
   ]
  },
  {
   "cell_type": "code",
   "execution_count": 2,
   "metadata": {},
   "outputs": [
    {
     "name": "stdout",
     "output_type": "stream",
     "text": [
      "True\n",
      "False\n",
      "True\n"
     ]
    }
   ],
   "source": [
    "#1\n",
    "check = lambda x: x.startswith('a')\n",
    "\n",
    "print(check('anshul'))\n",
    "print(check('raj'))\n",
    "print(check('verma'[::-1]))"
   ]
  },
  {
   "cell_type": "markdown",
   "metadata": {},
   "source": [
    "### Q. Check if the string is numeric.\n",
    "\n"
   ]
  },
  {
   "cell_type": "code",
   "execution_count": 5,
   "metadata": {},
   "outputs": [
    {
     "name": "stdout",
     "output_type": "stream",
     "text": [
      "True\n",
      "False\n",
      "True\n"
     ]
    }
   ],
   "source": [
    "#2\n",
    "check2 = lambda x: x.isnumeric()\n",
    "\n",
    "print(check2('2023'))\n",
    "print(check2('Feb 2023'))\n",
    "print(check2('07'))"
   ]
  },
  {
   "cell_type": "markdown",
   "metadata": {},
   "source": [
    "### Q. Sort a list of tuples having fruit names and their quantity.\n",
    "\n",
    "    `[(\"mango\",99),(\"orange\",80), (\"grapes\", 1000)]`\n",
    "\n",
    "\n"
   ]
  },
  {
   "cell_type": "code",
   "execution_count": 7,
   "metadata": {},
   "outputs": [
    {
     "name": "stdout",
     "output_type": "stream",
     "text": [
      "Sorted by quantity: [('orange', 80), ('mango', 99), ('grapes', 1000)]\n",
      "Sorted by names: [('grapes', 1000), ('mango', 99), ('orange', 80)]\n"
     ]
    }
   ],
   "source": [
    "#3\n",
    "fruits = [(\"mango\",99),(\"orange\",80), (\"grapes\", 1000)]\n",
    "\n",
    "print('Sorted by quantity:', sorted(fruits, key=lambda x: x[1]))\n",
    "print('Sorted by names:', sorted(fruits, key=lambda x: x[0]))"
   ]
  },
  {
   "cell_type": "markdown",
   "metadata": {},
   "source": [
    "### Q. Find the squares of numbers from 1 to 10.\n",
    "\n"
   ]
  },
  {
   "cell_type": "code",
   "execution_count": 8,
   "metadata": {},
   "outputs": [
    {
     "data": {
      "text/plain": [
       "[1, 4, 9, 16, 25, 36, 49, 64, 81, 100]"
      ]
     },
     "execution_count": 8,
     "metadata": {},
     "output_type": "execute_result"
    }
   ],
   "source": [
    "[i**2 for i in range(1, 11)]"
   ]
  },
  {
   "cell_type": "markdown",
   "metadata": {},
   "source": [
    "### Q. Find the cube root of numbers from 1 to 10.\n",
    "\n"
   ]
  },
  {
   "cell_type": "code",
   "execution_count": 10,
   "metadata": {},
   "outputs": [
    {
     "data": {
      "text/plain": [
       "[1.0,\n",
       " 1.2599210498948732,\n",
       " 1.4422495703074083,\n",
       " 1.5874010519681994,\n",
       " 1.7099759466766968,\n",
       " 1.8171205928321397,\n",
       " 1.912931182772389,\n",
       " 2.0,\n",
       " 2.080083823051904,\n",
       " 2.154434690031884]"
      ]
     },
     "execution_count": 10,
     "metadata": {},
     "output_type": "execute_result"
    }
   ],
   "source": [
    "[i**(1/3) for i in range(1, 11)]"
   ]
  },
  {
   "cell_type": "markdown",
   "metadata": {},
   "source": [
    "### Q. Check if a given number is even.\n",
    "\n"
   ]
  },
  {
   "cell_type": "code",
   "execution_count": 11,
   "metadata": {},
   "outputs": [
    {
     "data": {
      "text/plain": [
       "False"
      ]
     },
     "execution_count": 11,
     "metadata": {},
     "output_type": "execute_result"
    }
   ],
   "source": [
    "is_even = lambda x: x % 2 == 0\n",
    "\n",
    "is_even(3)"
   ]
  },
  {
   "cell_type": "markdown",
   "metadata": {},
   "source": [
    "### Q. Filter odd numbers from the given list.\n",
    "\n",
    "    `[1,2,3,4,5,6,7,8,9,10]`\n",
    "\n",
    "\n"
   ]
  },
  {
   "cell_type": "code",
   "execution_count": 12,
   "metadata": {},
   "outputs": [
    {
     "data": {
      "text/plain": [
       "[1, 3, 5, 7, 9]"
      ]
     },
     "execution_count": 12,
     "metadata": {},
     "output_type": "execute_result"
    }
   ],
   "source": [
    "list(filter(lambda x: x % 2 == 1, range(1, 11)))"
   ]
  },
  {
   "cell_type": "markdown",
   "metadata": {},
   "source": [
    "### Q. Sort a list of integers into positive and negative integers lists.\n",
    "\n",
    "    `[1,2,3,4,5,6,-1,-2,-3,-4,-5,0]`"
   ]
  },
  {
   "cell_type": "code",
   "execution_count": 13,
   "metadata": {},
   "outputs": [
    {
     "name": "stdout",
     "output_type": "stream",
     "text": [
      "Positive Numbers : [i for i in nums if i > 0] = [1, 2, 3, 4, 5, 6]\n",
      "Negative Numbers : [i for i in nums if i < 0] = [-1, -2, -3, -4, -5]\n"
     ]
    }
   ],
   "source": [
    "nums = [1,2,3,4,5,6,-1,-2,-3,-4,-5,0]\n",
    "\n",
    "print(f'Positive Numbers : {[i for i in nums if i > 0] = }')\n",
    "print(f'Negative Numbers : {[i for i in nums if i < 0] = }')"
   ]
  }
 ],
 "metadata": {
  "kernelspec": {
   "display_name": "Python 3.11.0 64-bit",
   "language": "python",
   "name": "python3"
  },
  "language_info": {
   "codemirror_mode": {
    "name": "ipython",
    "version": 3
   },
   "file_extension": ".py",
   "mimetype": "text/x-python",
   "name": "python",
   "nbconvert_exporter": "python",
   "pygments_lexer": "ipython3",
   "version": "3.11.0"
  },
  "orig_nbformat": 4,
  "vscode": {
   "interpreter": {
    "hash": "aee8b7b246df8f9039afb4144a1f6fd8d2ca17a180786b69acc140d282b71a49"
   }
  }
 },
 "nbformat": 4,
 "nbformat_minor": 2
}
