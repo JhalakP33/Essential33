{
 "cells": [
  {
   "attachments": {},
   "cell_type": "markdown",
   "metadata": {},
   "source": [
    "### Q1. Create a vehicle class with an init method having instance variables as name_of_vehicle, max_speed and average_of_vehicle.\n"
   ]
  },
  {
   "cell_type": "code",
   "execution_count": 1,
   "metadata": {},
   "outputs": [
    {
     "data": {
      "text/plain": [
       "'Truck'"
      ]
     },
     "execution_count": 1,
     "metadata": {},
     "output_type": "execute_result"
    }
   ],
   "source": [
    "class Vehicle:\n",
    "    def __init__(self, name, max_speed, avg_speed) -> None:\n",
    "        self.name_of_vehicle = name\n",
    "        self.max_speed = max_speed\n",
    "        self.avg_speed = avg_speed\n",
    "\n",
    "\n",
    "v1 = Vehicle('Truck', 40, 32)\n",
    "v1.name_of_vehicle\n"
   ]
  },
  {
   "cell_type": "markdown",
   "metadata": {},
   "source": [
    "### Q2.  Create a child class car from the vehicle class created in Que 1, which will inherit the vehicle class. Create a method named seating_capacity which takes capacity as an argument and returns the name of the vehicle and its seating capacity.\n"
   ]
  },
  {
   "cell_type": "code",
   "execution_count": 2,
   "metadata": {},
   "outputs": [
    {
     "data": {
      "text/plain": [
       "'Innova -> 6'"
      ]
     },
     "execution_count": 2,
     "metadata": {},
     "output_type": "execute_result"
    }
   ],
   "source": [
    "class Car(Vehicle):\n",
    "    def seating_capacity(self, capacity) -> str:\n",
    "        self.capacity = capacity\n",
    "        return f'{self.name_of_vehicle} -> {capacity}'\n",
    "\n",
    "\n",
    "car1 = Car('Innova', 80, 70)\n",
    "\n",
    "car1.seating_capacity(6)\n"
   ]
  },
  {
   "attachments": {},
   "cell_type": "markdown",
   "metadata": {},
   "source": [
    "### Q3. What is multiple inheritance? Write a python code to demonstrate multiple inheritance.\n",
    "\n",
    "> `Multiple Inheritance` is a way to inherit behaviour of multiple classes like methods, instance variables etc."
   ]
  },
  {
   "cell_type": "code",
   "execution_count": 9,
   "metadata": {},
   "outputs": [],
   "source": [
    "class MusicSystem:\n",
    "    def play_music(self, music_name):\n",
    "        return f'Now Playing... \\n>>> {music_name} <<<'\n"
   ]
  },
  {
   "cell_type": "code",
   "execution_count": 10,
   "metadata": {},
   "outputs": [
    {
     "name": "stdout",
     "output_type": "stream",
     "text": [
      "120000\n",
      "Now Playing... \n",
      ">>> Aasmaan by Anumita Nadesan <<<\n"
     ]
    }
   ],
   "source": [
    "class Scorpio(Car, MusicSystem):\n",
    "    def get_price(self) -> int:\n",
    "        return 1_20_000\n",
    "\n",
    "\n",
    "scorpio = Scorpio('SUV', 80, 74)\n",
    "print(scorpio.get_price())\n",
    "print(scorpio.play_music('Aasmaan by Anumita Nadesan'))\n"
   ]
  },
  {
   "attachments": {},
   "cell_type": "markdown",
   "metadata": {},
   "source": [
    "### Q4. What are getter and setter in python? Create a class and create a getter and a setter method in this class."
   ]
  },
  {
   "cell_type": "code",
   "execution_count": 12,
   "metadata": {},
   "outputs": [
    {
     "name": "stdout",
     "output_type": "stream",
     "text": [
      "12 4\n"
     ]
    }
   ],
   "source": [
    "class Point:\n",
    "    def __init__(self, a, b) -> None:\n",
    "        self.__a = a\n",
    "        self.__b = b\n",
    "\n",
    "    def get_a(self):\n",
    "        return self.__a\n",
    "\n",
    "    def get_b(self):\n",
    "        return self.__b\n",
    "\n",
    "    def set_a(self, value):\n",
    "        self.__a = value if value > 0 else -1\n",
    "\n",
    "    def set_b(self, value):\n",
    "        self.__b = value if value > 0 else -1\n",
    "\n",
    "\n",
    "p1 = Point(2, 4)\n",
    "p1.set_a(12)\n",
    "print(p1.get_a(), p1.get_b())\n"
   ]
  },
  {
   "attachments": {},
   "cell_type": "markdown",
   "metadata": {},
   "source": [
    "### Q5. What is method overriding in python? Write a python code to demonstrate method overriding."
   ]
  },
  {
   "cell_type": "code",
   "execution_count": 13,
   "metadata": {},
   "outputs": [
    {
     "name": "stdout",
     "output_type": "stream",
     "text": [
      "Inside Class1\n",
      "Inside Class2\n"
     ]
    }
   ],
   "source": [
    "class Class1():\n",
    "    def __init__(self):\n",
    "        self.value = \"Inside Class1\"\n",
    "\n",
    "    def show(self):\n",
    "        print(self.value)\n",
    "\n",
    "\n",
    "class Class2(Class1):\n",
    "    def __init__(self):\n",
    "        self.value = \"Inside Class2\"\n",
    "\n",
    "    def show(self):\n",
    "        print(self.value)\n",
    "\n",
    "\n",
    "obj1 = Class1()\n",
    "obj2 = Class2()\n",
    "\n",
    "obj1.show()\n",
    "obj2.show()\n"
   ]
  }
 ],
 "metadata": {
  "kernelspec": {
   "display_name": "Python 3.11.0 64-bit",
   "language": "python",
   "name": "python3"
  },
  "language_info": {
   "codemirror_mode": {
    "name": "ipython",
    "version": 3
   },
   "file_extension": ".py",
   "mimetype": "text/x-python",
   "name": "python",
   "nbconvert_exporter": "python",
   "pygments_lexer": "ipython3",
   "version": "3.11.0"
  },
  "orig_nbformat": 4,
  "vscode": {
   "interpreter": {
    "hash": "aee8b7b246df8f9039afb4144a1f6fd8d2ca17a180786b69acc140d282b71a49"
   }
  }
 },
 "nbformat": 4,
 "nbformat_minor": 2
}
