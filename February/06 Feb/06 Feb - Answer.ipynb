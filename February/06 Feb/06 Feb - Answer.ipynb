{
 "cells": [
  {
   "attachments": {},
   "cell_type": "markdown",
   "metadata": {},
   "source": [
    "### Q1. Create a function which will take a list as an argument and return the product of all the numbers after creating a flat list.\n",
    "\n",
    "Use the below-given list as an argument for your function.\n",
    "\n",
    "```python\n",
    "list1 = [\n",
    "    1,\n",
    "    2,\n",
    "    3,\n",
    "    4,\n",
    "    [44, 55, 66, True],\n",
    "    False,\n",
    "    (34, 56, 78, 89, 34),\n",
    "    {1, 2, 3, 3, 2, 1},\n",
    "    {1: 34, \"key2\": [55, 67, 78, 89], 4: (45, 22, 61, 34)},\n",
    "    [56, 'data science'],\n",
    "    'Machine Learning'\n",
    "]\n",
    "```\n",
    "\n",
    "> `Note:` you must extract numeric keys and values of the dictionary also.\n"
   ]
  },
  {
   "cell_type": "code",
   "execution_count": 25,
   "metadata": {},
   "outputs": [
    {
     "name": "stdout",
     "output_type": "stream",
     "text": [
      "product(list1) = 4134711838987085478833841242112000\n",
      "\n",
      ">>> Because of Flase my output is coming as 0.\n",
      ">>> So I changed it.\n"
     ]
    }
   ],
   "source": [
    "list1 = [\n",
    "    1,\n",
    "    2,\n",
    "    3,\n",
    "    4,\n",
    "    [44, 55, 66, True],\n",
    "    1,  # Because of Flase my output is coming as 0.\n",
    "    (34, 56, 78, 89, 34),\n",
    "    {1, 2, 3, 3, 2, 1},\n",
    "    {1: 34, \"key2\": [55, 67, 78, 89], 4: (45, 22, 61, 34)},\n",
    "    [56, 'data science'],\n",
    "    'Machine Learning'\n",
    "]\n",
    "\n",
    "def product(lst: list) -> float:\n",
    "    result = 1\n",
    "    for i in lst:\n",
    "        if isinstance(i, (int, float)):\n",
    "            result *= i\n",
    "        elif isinstance(i, (list, tuple, set)):\n",
    "            result = result * product(list(i))\n",
    "        elif isinstance(i, dict):\n",
    "            result = result * product(list(i.keys()))\n",
    "            result = result * product(list(i.values()))\n",
    "    return result\n",
    "\n",
    "print(f'{product(list1) = }')\n",
    "\n",
    "print('\\n>>> Because of Flase my output is coming as 0.\\n>>> So I changed it.')"
   ]
  },
  {
   "attachments": {},
   "cell_type": "markdown",
   "metadata": {},
   "source": [
    "### Q2. Write a python program for encrypting a message sent to you by your friend. The logic of encryption should be such that, \n",
    "- For `a` the output should be `z`.\n",
    "- For `b`, the output should be `y`.\n",
    "- For `c`, the output should be `x` __respectively__.\n",
    "- Also, the `whitespace` should be replaced with a `dollar sign`.\n",
    "- Keep the `punctuation marks` unchanged.\n",
    "\n",
    "`Input Sentence:` I want to become a Data Scientist.\n",
    "\n",
    "> Encrypt the above input sentence using the program you just created.\n",
    "\n",
    "> `Note:` Convert the given input sentence into lowercase before encrypting. The final output should be lowercase"
   ]
  },
  {
   "cell_type": "code",
   "execution_count": 40,
   "metadata": {},
   "outputs": [
    {
     "name": "stdout",
     "output_type": "stream",
     "text": [
      "sentence = 'I want to beacome a Data Scientist.'\n",
      "encrypt(sentence) = 'r$dzmg$gl$yvzxlnv$z$wzgz$hxrvmgrhg.'\n"
     ]
    }
   ],
   "source": [
    "sentence = 'I want to beacome a Data Scientist.'\n",
    "\n",
    "def encrypt(str_: str) -> str:\n",
    "    str_ = str_.lower()\n",
    "    all_alpha = list('abcdefghijklmnopqrstuvwxyz')\n",
    "    \n",
    "    result = ''\n",
    "    for i in str_:\n",
    "        if i.isalpha():\n",
    "            idx = all_alpha.index(i)\n",
    "            result += all_alpha[-idx - 1]\n",
    "        elif i.isspace():\n",
    "            result += '$'\n",
    "        else:\n",
    "            result += i\n",
    "    return result\n",
    "\n",
    "print(f'{sentence = }')\n",
    "print(f'{encrypt(sentence) = }')"
   ]
  }
 ],
 "metadata": {
  "kernelspec": {
   "display_name": "Python 3.11.0 64-bit",
   "language": "python",
   "name": "python3"
  },
  "language_info": {
   "codemirror_mode": {
    "name": "ipython",
    "version": 3
   },
   "file_extension": ".py",
   "mimetype": "text/x-python",
   "name": "python",
   "nbconvert_exporter": "python",
   "pygments_lexer": "ipython3",
   "version": "3.11.0"
  },
  "orig_nbformat": 4,
  "vscode": {
   "interpreter": {
    "hash": "aee8b7b246df8f9039afb4144a1f6fd8d2ca17a180786b69acc140d282b71a49"
   }
  }
 },
 "nbformat": 4,
 "nbformat_minor": 2
}
