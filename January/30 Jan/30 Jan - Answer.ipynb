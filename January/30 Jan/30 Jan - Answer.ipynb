{
 "cells": [
  {
   "cell_type": "markdown",
   "metadata": {},
   "source": [
    "### 1. Write a program to accept percentage from the user and display the grade according to the following criteria:\n",
    "\n",
    "| Marks         | Grade |\n",
    "| ------------- | ----- |\n",
    "| >90           | A     |\n",
    "| >80 and <=90  | B     |\n",
    "| >=60 and <=80 | C     |\n",
    "| below 60      | D     |\n"
   ]
  },
  {
   "cell_type": "code",
   "execution_count": 35,
   "metadata": {},
   "outputs": [
    {
     "data": {
      "text/plain": [
       "'B'"
      ]
     },
     "execution_count": 35,
     "metadata": {},
     "output_type": "execute_result"
    }
   ],
   "source": [
    "pct = int(input('Enter percentage : '))\n",
    "\n",
    "def get_grade(pct):\n",
    "    if pct<60:\n",
    "        return 'D'\n",
    "    elif pct<80:\n",
    "        return 'C'\n",
    "    elif pct<90:\n",
    "        return 'B'\n",
    "    else:\n",
    "        return 'A'\n",
    "    \n",
    "get_grade(pct)"
   ]
  },
  {
   "cell_type": "markdown",
   "metadata": {},
   "source": [
    "### 2. Write a program to accept the cost price of a bike and display the road tax to be paid according to the following criteria:\n",
    "\n",
    "| Tax |  Cost Price(in Rs)   |\n",
    "| :-: | :------------------: |\n",
    "| 15% |       >100000        |\n",
    "| 10% | >50000 and <= 100000 |\n",
    "| 5%  |       <= 50000       |\n"
   ]
  },
  {
   "cell_type": "code",
   "execution_count": 4,
   "metadata": {},
   "outputs": [
    {
     "name": "stdout",
     "output_type": "stream",
     "text": [
      "Tax = 18000.0\n"
     ]
    }
   ],
   "source": [
    "cp = int(input())\n",
    "\n",
    "if cp <= 50000:\n",
    "    print('Tax =', cp*0.05)\n",
    "elif cp > 50000 and cp <= 100000:\n",
    "    print('Tax =', cp*0.1)\n",
    "else:\n",
    "    print('Tax =', cp*0.15)"
   ]
  },
  {
   "cell_type": "markdown",
   "metadata": {},
   "source": [
    "### 4. Accept any city from the user and display monuments of that city.\n",
    "\n",
    "| City   | Monument  |\n",
    "| ------ | --------- |\n",
    "| Delhi  | Red Fort  |\n",
    "| Agra   | Taj Mahal |\n",
    "| Jaipur | Jal Mahal |\n"
   ]
  },
  {
   "cell_type": "code",
   "execution_count": 2,
   "metadata": {},
   "outputs": [
    {
     "name": "stdout",
     "output_type": "stream",
     "text": [
      "d[user] = 'Red Fort'\n"
     ]
    }
   ],
   "source": [
    "d = {'Delhi': 'Red Fort', 'Agra': 'New Delhi', 'Jaipur': 'Jal Mahal'}\n",
    "\n",
    "user = input('Enter the city : ').title()\n",
    "print(f'{d[user] = }')"
   ]
  },
  {
   "cell_type": "markdown",
   "metadata": {},
   "source": [
    "### 4. Check how many times a given number can be divided by 3 before it is less than or equal to 10. "
   ]
  },
  {
   "cell_type": "code",
   "execution_count": 9,
   "metadata": {},
   "outputs": [
    {
     "name": "stdout",
     "output_type": "stream",
     "text": [
      "count = 3\n"
     ]
    }
   ],
   "source": [
    "num, count = 144, 0\n",
    "\n",
    "while True:\n",
    "    if num <= 10:\n",
    "        break\n",
    "    num /= 3\n",
    "    count += 1\n",
    "\n",
    "print(f'{count = }')"
   ]
  },
  {
   "cell_type": "markdown",
   "metadata": {},
   "source": [
    "### 5. Why and When to Use while Loop in Python give a detailed description with example."
   ]
  },
  {
   "cell_type": "markdown",
   "metadata": {},
   "source": [
    "#### `Answer: ` When we have not any iterator data type to iterate with then the `while loop` came in the game. With `while loop` you can perform `infinite iteration operation` along with `break condition` to avoid any error."
   ]
  },
  {
   "cell_type": "code",
   "execution_count": 36,
   "metadata": {},
   "outputs": [
    {
     "name": "stdout",
     "output_type": "stream",
     "text": [
      "10500\n"
     ]
    }
   ],
   "source": [
    "n = 2100\n",
    "result = 0\n",
    "\n",
    "while True:\n",
    "    if result > 10000:\n",
    "        break\n",
    "    else:\n",
    "        result += n\n",
    "print(result)"
   ]
  },
  {
   "cell_type": "markdown",
   "metadata": {},
   "source": [
    "### 6. Use nested while loop to print 3 different pattern.\n"
   ]
  },
  {
   "cell_type": "code",
   "execution_count": 27,
   "metadata": {},
   "outputs": [
    {
     "name": "stdout",
     "output_type": "stream",
     "text": [
      "\n",
      "o \n",
      "o o \n",
      "o o o \n",
      "o o o o \n",
      "o o o o o \n",
      "o o o o o o \n",
      "o o o o o o o \n",
      "o o o o o o o o \n",
      "o o o o o o o o o \n",
      "o o o o o o o o o o \n"
     ]
    }
   ],
   "source": [
    "n = 1; x = 11\n",
    "\n",
    "while n <= x:\n",
    "    c = 1\n",
    "    while c < n:\n",
    "        print('o ', end='')\n",
    "        c+=1\n",
    "    print()\n",
    "    n+=1"
   ]
  },
  {
   "cell_type": "markdown",
   "metadata": {},
   "source": [
    "### 7. Reverse a while loop to display numbers from 10 to 1. "
   ]
  },
  {
   "cell_type": "code",
   "execution_count": 28,
   "metadata": {},
   "outputs": [
    {
     "name": "stdout",
     "output_type": "stream",
     "text": [
      "10\n",
      "9\n",
      "8\n",
      "7\n",
      "6\n",
      "5\n",
      "4\n",
      "3\n",
      "2\n",
      "1\n"
     ]
    }
   ],
   "source": [
    "n = 10\n",
    "\n",
    "while n >= 1:\n",
    "    print(n)\n",
    "    n-=1"
   ]
  },
  {
   "cell_type": "markdown",
   "metadata": {},
   "source": [
    "### 8. Reverse a while loop to display numbers from 10 to 1"
   ]
  },
  {
   "cell_type": "code",
   "execution_count": 33,
   "metadata": {},
   "outputs": [
    {
     "name": "stdout",
     "output_type": "stream",
     "text": [
      "10\n",
      "9\n",
      "8\n",
      "7\n",
      "6\n",
      "5\n",
      "4\n",
      "3\n",
      "2\n",
      "1\n"
     ]
    }
   ],
   "source": [
    "n = 1\n",
    "\n",
    "while n <= 10:\n",
    "    print(11-n)\n",
    "    n+=1"
   ]
  }
 ],
 "metadata": {
  "kernelspec": {
   "display_name": "Python 3.11.0 64-bit",
   "language": "python",
   "name": "python3"
  },
  "language_info": {
   "codemirror_mode": {
    "name": "ipython",
    "version": 3
   },
   "file_extension": ".py",
   "mimetype": "text/x-python",
   "name": "python",
   "nbconvert_exporter": "python",
   "pygments_lexer": "ipython3",
   "version": "3.11.0"
  },
  "orig_nbformat": 4,
  "vscode": {
   "interpreter": {
    "hash": "aee8b7b246df8f9039afb4144a1f6fd8d2ca17a180786b69acc140d282b71a49"
   }
  }
 },
 "nbformat": 4,
 "nbformat_minor": 2
}
