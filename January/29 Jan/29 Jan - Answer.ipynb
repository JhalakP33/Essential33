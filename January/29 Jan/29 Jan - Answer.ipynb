{
 "cells": [
  {
   "cell_type": "markdown",
   "metadata": {},
   "source": [
    "### 1. Who developed Python Programming Language?\n",
    "\n",
    "> Python language developed by `'Guido van Rossum'`."
   ]
  },
  {
   "cell_type": "markdown",
   "metadata": {},
   "source": [
    "### 2. Which type of Programming does Python support?\n",
    "\n",
    "> ####  Python supports :\n",
    "1. Dynamic type.\n",
    "2. Object-Oriented Programming.\n",
    "3. Python is a `Interpreted` programming language."
   ]
  },
  {
   "cell_type": "markdown",
   "metadata": {},
   "source": [
    "### 3. Is Python case sensitive when dealing with identifiers?\n",
    "\n",
    "> **`Yes`**, Python is case sensitive while dealing with `identifiers | variables`."
   ]
  },
  {
   "cell_type": "markdown",
   "metadata": {},
   "source": [
    "### 4. What is the correct extension of the Python file?\n",
    "> **`.py`** extension used to identify Python files."
   ]
  },
  {
   "cell_type": "markdown",
   "metadata": {},
   "source": [
    "### 5. Is Python code compiled or interpreted?\n",
    "> Python is a **`interpreted`** language."
   ]
  },
  {
   "cell_type": "markdown",
   "metadata": {},
   "source": [
    "### 6. Name a few blocks of code used to define in Python language?\n",
    "\n",
    "```python\n",
    "a = 5\n",
    "b = 13\n",
    "print(a + b)    # output: 18\n",
    "```"
   ]
  },
  {
   "cell_type": "code",
   "execution_count": 3,
   "metadata": {},
   "outputs": [
    {
     "name": "stdout",
     "output_type": "stream",
     "text": [
      "18\n"
     ]
    }
   ],
   "source": [
    "# addition of two numbers\n",
    "\n",
    "a = 5\n",
    "b = 13\n",
    "print(a + b)"
   ]
  },
  {
   "cell_type": "markdown",
   "metadata": {},
   "source": [
    "### 7. State a character used to give single-line comments in Python?\n",
    "\n",
    "> `#` used to define single line comments in Python."
   ]
  },
  {
   "cell_type": "markdown",
   "metadata": {},
   "source": [
    "### 8. Mention functions which can help us to find the version of python that we are currently working on?\n",
    "\n",
    "> In command line : `python --version`\n",
    "\n",
    "> Or you can use `sys.version` in your Python script to get your Python version."
   ]
  },
  {
   "cell_type": "code",
   "execution_count": 2,
   "metadata": {},
   "outputs": [
    {
     "data": {
      "text/plain": [
       "'3.11.0 (v3.11.0:deaf509e8f, Oct 24 2022, 14:43:23) [Clang 13.0.0 (clang-1300.0.29.30)]'"
      ]
     },
     "execution_count": 2,
     "metadata": {},
     "output_type": "execute_result"
    }
   ],
   "source": [
    "import sys\n",
    "\n",
    "sys.version"
   ]
  },
  {
   "cell_type": "markdown",
   "metadata": {},
   "source": [
    "### 9. Python supports the creation of anonymous functions at runtime, using a construct called _____________.\n",
    "\n",
    "> **`lambda`** keyword used to create `anonymous funtions | funtions without names`."
   ]
  },
  {
   "cell_type": "markdown",
   "metadata": {},
   "source": [
    "### 10. What does pip stand for python?\n",
    "\n",
    "> _`pip`_ stands for **`Python Package Index`**."
   ]
  },
  {
   "cell_type": "markdown",
   "metadata": {},
   "source": [
    "### 1. Mention a few built-in functions in python?\n",
    "\n",
    "> **`[print, type, id, sum, len]`** are some built-in functions in python."
   ]
  },
  {
   "cell_type": "markdown",
   "metadata": {},
   "source": [
    "### 12. What is the maximum possible length of an identifier in Python?\n",
    "\n",
    "> Maximum **79** character are possible to define a identifier in python."
   ]
  },
  {
   "cell_type": "markdown",
   "metadata": {},
   "source": [
    "### 13. What are the benefits of using Python?\n",
    "\n",
    "> ### Benifits of using Python:\n",
    "1. Python is very simple to use and learn. So, it beginners friendly language.\n",
    "2. Widely used over world due to which it create very large community to interact/develop with.\n",
    "3. Due to large community support, Python has many library and framework to work with which makes developers code reuseable."
   ]
  },
  {
   "cell_type": "markdown",
   "metadata": {},
   "source": [
    "### 14. How is memory managed in Python?\n",
    "\n",
    "> Python assign same memory location or reference to multiple identifier if the same valued varible already exists in the namespace to optimize its memory management."
   ]
  },
  {
   "cell_type": "markdown",
   "metadata": {},
   "source": [
    "### 15. How to install Python on Windows and set path variables?\n",
    "\n",
    "- You can install python by downloading the python software from its [official website](https://www.python.org).\n",
    "- Set path variable using CLI `set PATH=\"value\"` on windows."
   ]
  }
 ],
 "metadata": {
  "kernelspec": {
   "display_name": "Python 3.11.0 64-bit",
   "language": "python",
   "name": "python3"
  },
  "language_info": {
   "codemirror_mode": {
    "name": "ipython",
    "version": 3
   },
   "file_extension": ".py",
   "mimetype": "text/x-python",
   "name": "python",
   "nbconvert_exporter": "python",
   "pygments_lexer": "ipython3",
   "version": "3.11.0"
  },
  "orig_nbformat": 4,
  "vscode": {
   "interpreter": {
    "hash": "aee8b7b246df8f9039afb4144a1f6fd8d2ca17a180786b69acc140d282b71a49"
   }
  }
 },
 "nbformat": 4,
 "nbformat_minor": 2
}
